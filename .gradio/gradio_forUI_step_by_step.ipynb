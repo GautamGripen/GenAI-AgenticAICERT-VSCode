{
 "cells": [
  {
   "cell_type": "code",
   "execution_count": 1,
   "id": "8c2b364a",
   "metadata": {},
   "outputs": [
    {
     "name": "stdout",
     "output_type": "stream",
     "text": [
      "Requirement already satisfied: gradio in c:\\users\\hp\\miniconda3\\envs\\mydevenvironment\\lib\\site-packages (5.32.0)\n",
      "Requirement already satisfied: aiofiles<25.0,>=22.0 in c:\\users\\hp\\miniconda3\\envs\\mydevenvironment\\lib\\site-packages (from gradio) (24.1.0)\n",
      "Requirement already satisfied: anyio<5.0,>=3.0 in c:\\users\\hp\\miniconda3\\envs\\mydevenvironment\\lib\\site-packages (from gradio) (4.9.0)\n",
      "Requirement already satisfied: fastapi<1.0,>=0.115.2 in c:\\users\\hp\\miniconda3\\envs\\mydevenvironment\\lib\\site-packages (from gradio) (0.115.9)\n",
      "Requirement already satisfied: ffmpy in c:\\users\\hp\\miniconda3\\envs\\mydevenvironment\\lib\\site-packages (from gradio) (0.5.0)\n",
      "Requirement already satisfied: gradio-client==1.10.2 in c:\\users\\hp\\miniconda3\\envs\\mydevenvironment\\lib\\site-packages (from gradio) (1.10.2)\n",
      "Requirement already satisfied: groovy~=0.1 in c:\\users\\hp\\miniconda3\\envs\\mydevenvironment\\lib\\site-packages (from gradio) (0.1.2)\n",
      "Requirement already satisfied: httpx>=0.24.1 in c:\\users\\hp\\miniconda3\\envs\\mydevenvironment\\lib\\site-packages (from gradio) (0.28.1)\n",
      "Requirement already satisfied: huggingface-hub>=0.28.1 in c:\\users\\hp\\miniconda3\\envs\\mydevenvironment\\lib\\site-packages (from gradio) (0.32.0)\n",
      "Requirement already satisfied: jinja2<4.0 in c:\\users\\hp\\miniconda3\\envs\\mydevenvironment\\lib\\site-packages (from gradio) (3.1.6)\n",
      "Requirement already satisfied: markupsafe<4.0,>=2.0 in c:\\users\\hp\\miniconda3\\envs\\mydevenvironment\\lib\\site-packages (from gradio) (3.0.2)\n",
      "Requirement already satisfied: numpy<3.0,>=1.0 in c:\\users\\hp\\miniconda3\\envs\\mydevenvironment\\lib\\site-packages (from gradio) (2.2.6)\n",
      "Requirement already satisfied: orjson~=3.0 in c:\\users\\hp\\miniconda3\\envs\\mydevenvironment\\lib\\site-packages (from gradio) (3.10.18)\n",
      "Requirement already satisfied: packaging in c:\\users\\hp\\miniconda3\\envs\\mydevenvironment\\lib\\site-packages (from gradio) (24.2)\n",
      "Requirement already satisfied: pandas<3.0,>=1.0 in c:\\users\\hp\\miniconda3\\envs\\mydevenvironment\\lib\\site-packages (from gradio) (2.2.3)\n",
      "Requirement already satisfied: pillow<12.0,>=8.0 in c:\\users\\hp\\miniconda3\\envs\\mydevenvironment\\lib\\site-packages (from gradio) (11.2.1)\n",
      "Requirement already satisfied: pydantic<2.12,>=2.0 in c:\\users\\hp\\miniconda3\\envs\\mydevenvironment\\lib\\site-packages (from gradio) (2.11.4)\n",
      "Requirement already satisfied: pydub in c:\\users\\hp\\miniconda3\\envs\\mydevenvironment\\lib\\site-packages (from gradio) (0.25.1)\n",
      "Requirement already satisfied: python-multipart>=0.0.18 in c:\\users\\hp\\miniconda3\\envs\\mydevenvironment\\lib\\site-packages (from gradio) (0.0.20)\n",
      "Requirement already satisfied: pyyaml<7.0,>=5.0 in c:\\users\\hp\\miniconda3\\envs\\mydevenvironment\\lib\\site-packages (from gradio) (6.0.2)\n",
      "Requirement already satisfied: ruff>=0.9.3 in c:\\users\\hp\\miniconda3\\envs\\mydevenvironment\\lib\\site-packages (from gradio) (0.11.12)\n",
      "Requirement already satisfied: safehttpx<0.2.0,>=0.1.6 in c:\\users\\hp\\miniconda3\\envs\\mydevenvironment\\lib\\site-packages (from gradio) (0.1.6)\n",
      "Requirement already satisfied: semantic-version~=2.0 in c:\\users\\hp\\miniconda3\\envs\\mydevenvironment\\lib\\site-packages (from gradio) (2.10.0)\n",
      "Requirement already satisfied: starlette<1.0,>=0.40.0 in c:\\users\\hp\\miniconda3\\envs\\mydevenvironment\\lib\\site-packages (from gradio) (0.45.3)\n",
      "Requirement already satisfied: tomlkit<0.14.0,>=0.12.0 in c:\\users\\hp\\miniconda3\\envs\\mydevenvironment\\lib\\site-packages (from gradio) (0.13.2)\n",
      "Requirement already satisfied: typer<1.0,>=0.12 in c:\\users\\hp\\miniconda3\\envs\\mydevenvironment\\lib\\site-packages (from gradio) (0.16.0)\n",
      "Requirement already satisfied: typing-extensions~=4.0 in c:\\users\\hp\\miniconda3\\envs\\mydevenvironment\\lib\\site-packages (from gradio) (4.13.2)\n",
      "Requirement already satisfied: uvicorn>=0.14.0 in c:\\users\\hp\\miniconda3\\envs\\mydevenvironment\\lib\\site-packages (from gradio) (0.34.2)\n",
      "Requirement already satisfied: fsspec in c:\\users\\hp\\miniconda3\\envs\\mydevenvironment\\lib\\site-packages (from gradio-client==1.10.2->gradio) (2025.3.0)\n",
      "Requirement already satisfied: websockets<16.0,>=10.0 in c:\\users\\hp\\miniconda3\\envs\\mydevenvironment\\lib\\site-packages (from gradio-client==1.10.2->gradio) (15.0.1)\n",
      "Requirement already satisfied: idna>=2.8 in c:\\users\\hp\\miniconda3\\envs\\mydevenvironment\\lib\\site-packages (from anyio<5.0,>=3.0->gradio) (3.10)\n",
      "Requirement already satisfied: sniffio>=1.1 in c:\\users\\hp\\miniconda3\\envs\\mydevenvironment\\lib\\site-packages (from anyio<5.0,>=3.0->gradio) (1.3.1)\n",
      "Requirement already satisfied: python-dateutil>=2.8.2 in c:\\users\\hp\\miniconda3\\envs\\mydevenvironment\\lib\\site-packages (from pandas<3.0,>=1.0->gradio) (2.9.0.post0)\n",
      "Requirement already satisfied: pytz>=2020.1 in c:\\users\\hp\\miniconda3\\envs\\mydevenvironment\\lib\\site-packages (from pandas<3.0,>=1.0->gradio) (2025.2)\n",
      "Requirement already satisfied: tzdata>=2022.7 in c:\\users\\hp\\miniconda3\\envs\\mydevenvironment\\lib\\site-packages (from pandas<3.0,>=1.0->gradio) (2025.2)\n",
      "Requirement already satisfied: annotated-types>=0.6.0 in c:\\users\\hp\\miniconda3\\envs\\mydevenvironment\\lib\\site-packages (from pydantic<2.12,>=2.0->gradio) (0.7.0)\n",
      "Requirement already satisfied: pydantic-core==2.33.2 in c:\\users\\hp\\miniconda3\\envs\\mydevenvironment\\lib\\site-packages (from pydantic<2.12,>=2.0->gradio) (2.33.2)\n",
      "Requirement already satisfied: typing-inspection>=0.4.0 in c:\\users\\hp\\miniconda3\\envs\\mydevenvironment\\lib\\site-packages (from pydantic<2.12,>=2.0->gradio) (0.4.0)\n",
      "Requirement already satisfied: click>=8.0.0 in c:\\users\\hp\\miniconda3\\envs\\mydevenvironment\\lib\\site-packages (from typer<1.0,>=0.12->gradio) (8.2.0)\n",
      "Requirement already satisfied: shellingham>=1.3.0 in c:\\users\\hp\\miniconda3\\envs\\mydevenvironment\\lib\\site-packages (from typer<1.0,>=0.12->gradio) (1.5.4)\n",
      "Requirement already satisfied: rich>=10.11.0 in c:\\users\\hp\\miniconda3\\envs\\mydevenvironment\\lib\\site-packages (from typer<1.0,>=0.12->gradio) (14.0.0)\n",
      "Requirement already satisfied: colorama in c:\\users\\hp\\miniconda3\\envs\\mydevenvironment\\lib\\site-packages (from click>=8.0.0->typer<1.0,>=0.12->gradio) (0.4.6)\n",
      "Requirement already satisfied: certifi in c:\\users\\hp\\miniconda3\\envs\\mydevenvironment\\lib\\site-packages (from httpx>=0.24.1->gradio) (2025.4.26)\n",
      "Requirement already satisfied: httpcore==1.* in c:\\users\\hp\\miniconda3\\envs\\mydevenvironment\\lib\\site-packages (from httpx>=0.24.1->gradio) (1.0.9)\n",
      "Requirement already satisfied: h11>=0.16 in c:\\users\\hp\\miniconda3\\envs\\mydevenvironment\\lib\\site-packages (from httpcore==1.*->httpx>=0.24.1->gradio) (0.16.0)\n",
      "Requirement already satisfied: filelock in c:\\users\\hp\\miniconda3\\envs\\mydevenvironment\\lib\\site-packages (from huggingface-hub>=0.28.1->gradio) (3.18.0)\n",
      "Requirement already satisfied: requests in c:\\users\\hp\\miniconda3\\envs\\mydevenvironment\\lib\\site-packages (from huggingface-hub>=0.28.1->gradio) (2.32.3)\n",
      "Requirement already satisfied: tqdm>=4.42.1 in c:\\users\\hp\\miniconda3\\envs\\mydevenvironment\\lib\\site-packages (from huggingface-hub>=0.28.1->gradio) (4.67.1)\n",
      "Requirement already satisfied: six>=1.5 in c:\\users\\hp\\miniconda3\\envs\\mydevenvironment\\lib\\site-packages (from python-dateutil>=2.8.2->pandas<3.0,>=1.0->gradio) (1.17.0)\n",
      "Requirement already satisfied: markdown-it-py>=2.2.0 in c:\\users\\hp\\miniconda3\\envs\\mydevenvironment\\lib\\site-packages (from rich>=10.11.0->typer<1.0,>=0.12->gradio) (3.0.0)\n",
      "Requirement already satisfied: pygments<3.0.0,>=2.13.0 in c:\\users\\hp\\miniconda3\\envs\\mydevenvironment\\lib\\site-packages (from rich>=10.11.0->typer<1.0,>=0.12->gradio) (2.19.1)\n",
      "Requirement already satisfied: mdurl~=0.1 in c:\\users\\hp\\miniconda3\\envs\\mydevenvironment\\lib\\site-packages (from markdown-it-py>=2.2.0->rich>=10.11.0->typer<1.0,>=0.12->gradio) (0.1.2)\n",
      "Requirement already satisfied: charset-normalizer<4,>=2 in c:\\users\\hp\\miniconda3\\envs\\mydevenvironment\\lib\\site-packages (from requests->huggingface-hub>=0.28.1->gradio) (3.4.2)\n",
      "Requirement already satisfied: urllib3<3,>=1.21.1 in c:\\users\\hp\\miniconda3\\envs\\mydevenvironment\\lib\\site-packages (from requests->huggingface-hub>=0.28.1->gradio) (2.4.0)\n"
     ]
    }
   ],
   "source": [
    "# We use gradio framework by google in order to build UI for POCs\n",
    "!pip install gradio"
   ]
  },
  {
   "cell_type": "code",
   "execution_count": 2,
   "id": "adc85a87",
   "metadata": {},
   "outputs": [],
   "source": [
    "import gradio as gr"
   ]
  },
  {
   "cell_type": "code",
   "execution_count": 7,
   "id": "1aaca3d3",
   "metadata": {},
   "outputs": [],
   "source": [
    "def greet(name):\n",
    "    \"\"\"Simple Greeting Function\"\"\"\n",
    "    return f\"Hello, {name}! Welcome to BIA.\""
   ]
  },
  {
   "cell_type": "code",
   "execution_count": 8,
   "id": "ab806c02",
   "metadata": {},
   "outputs": [
    {
     "data": {
      "text/plain": [
       "'Hello, gautam! Welcome to BIA.'"
      ]
     },
     "execution_count": 8,
     "metadata": {},
     "output_type": "execute_result"
    }
   ],
   "source": [
    "greet(\"gautam\")"
   ]
  },
  {
   "cell_type": "code",
   "execution_count": null,
   "id": "5049f9fe",
   "metadata": {},
   "outputs": [
    {
     "name": "stdout",
     "output_type": "stream",
     "text": [
      "* Running on local URL:  http://127.0.0.1:7860\n",
      "\n",
      "Could not create share link. Please check your internet connection or our status page: https://status.gradio.app.\n"
     ]
    },
    {
     "data": {
      "text/html": [
       "<div><iframe src=\"http://127.0.0.1:7860/\" width=\"100%\" height=\"500\" allow=\"autoplay; camera; microphone; clipboard-read; clipboard-write;\" frameborder=\"0\" allowfullscreen></iframe></div>"
      ],
      "text/plain": [
       "<IPython.core.display.HTML object>"
      ]
     },
     "metadata": {},
     "output_type": "display_data"
    },
    {
     "data": {
      "text/plain": []
     },
     "execution_count": 9,
     "metadata": {},
     "output_type": "execute_result"
    }
   ],
   "source": [
    "#convert to API\n",
    "#check on UI\n",
    "demo_1 = gr.Interface(\n",
    "    fn=greet,   #This is callig up a function\n",
    "    inputs=\"text\",\n",
    "    outputs= \"text\",\n",
    "    title= \"My first Gradio APII\"\n",
    ")\n",
    "\n",
    "demo_1.launch(share=True)"
   ]
  },
  {
   "cell_type": "code",
   "execution_count": 10,
   "id": "3a0351ff",
   "metadata": {},
   "outputs": [],
   "source": [
    "#Let consider another function\n",
    "def calculate_bmi(weight, height):\n",
    "    \"\"\"Calculate BMI and return classification\"\"\"\n",
    "    bmi = weight / (height ** 2)\n",
    "    \n",
    "    if bmi < 18.5:\n",
    "        category = \"Underweight\"\n",
    "    elif bmi < 25:\n",
    "        category = \"Normal weight\"\n",
    "    elif bmi < 30:\n",
    "        category = \"Overweight\"\n",
    "    else:\n",
    "        category = \"Obese\"\n",
    "    \n",
    "    return round(bmi, 2), category"
   ]
  },
  {
   "cell_type": "code",
   "execution_count": 11,
   "id": "26cc8696",
   "metadata": {},
   "outputs": [
    {
     "name": "stdout",
     "output_type": "stream",
     "text": [
      "* Running on local URL:  http://127.0.0.1:7861\n",
      "* To create a public link, set `share=True` in `launch()`.\n"
     ]
    },
    {
     "data": {
      "text/html": [
       "<div><iframe src=\"http://127.0.0.1:7861/\" width=\"100%\" height=\"500\" allow=\"autoplay; camera; microphone; clipboard-read; clipboard-write;\" frameborder=\"0\" allowfullscreen></iframe></div>"
      ],
      "text/plain": [
       "<IPython.core.display.HTML object>"
      ]
     },
     "metadata": {},
     "output_type": "display_data"
    },
    {
     "data": {
      "text/plain": []
     },
     "execution_count": 11,
     "metadata": {},
     "output_type": "execute_result"
    }
   ],
   "source": [
    "#convert to API\n",
    "#check on UI\n",
    "demo_1 = gr.Interface(\n",
    "    fn=calculate_bmi,           #This is callig up a function\n",
    "    inputs=[\n",
    "        gr.Number(label=\"Weight (KG)\", value = 70),\n",
    "        gr.Number(label=\"Height (mt)\", value = 1.75),\n",
    "\n",
    "\n",
    "    ],\n",
    "    outputs=[\n",
    "        gr.Number(label=\"BMI\"),\n",
    "        gr.Text(label=\"Category\"),\n",
    "    ],\n",
    "    title= \"BMI Calculator\"\n",
    ")\n",
    "\n",
    "demo_1.launch()"
   ]
  },
  {
   "cell_type": "code",
   "execution_count": 12,
   "id": "9dc27612",
   "metadata": {},
   "outputs": [],
   "source": [
    "#how to convert text to UPPER limit and Camel Case\n",
    "def analyze_text(text, case_option, word_limit):\n",
    "    \"\"\"Analyze and transform text based on options\"\"\"\n",
    "    if not text:\n",
    "        return \"Please enter some text\", 0, []\n",
    "    \n",
    "    # Apply case transformation\n",
    "    if case_option == \"Upper\":\n",
    "        transformed = text.upper()\n",
    "    elif case_option == \"Lower\":\n",
    "        transformed = text.lower()\n",
    "    elif case_option == \"Title\":\n",
    "        transformed = text.title()\n",
    "    else:\n",
    "        transformed = text\n",
    "\n",
    "    # Count words\n",
    "    words = text.split()\n",
    "    word_count = len(words)\n",
    "    \n",
    "    # Get limited words\n",
    "    limited_words = words[:word_limit] if word_limit > 0 else words\n",
    "    \n",
    "    return transformed, word_count, limited_words"
   ]
  },
  {
   "cell_type": "code",
   "execution_count": null,
   "id": "f815db6f",
   "metadata": {},
   "outputs": [
    {
     "data": {
      "text/plain": [
       "('Gautam Chatterjee', 2, ['gautam', 'chatterjee'])"
      ]
     },
     "execution_count": 13,
     "metadata": {},
     "output_type": "execute_result"
    }
   ],
   "source": [
    "analyze_text(\"gautam chatterjee\", \"Title\", 13)  #This is how we convert to Camel Case using \"Title\""
   ]
  },
  {
   "cell_type": "code",
   "execution_count": 14,
   "id": "ff4f92b7",
   "metadata": {},
   "outputs": [
    {
     "name": "stdout",
     "output_type": "stream",
     "text": [
      "* Running on local URL:  http://127.0.0.1:7862\n",
      "* To create a public link, set `share=True` in `launch()`.\n"
     ]
    },
    {
     "data": {
      "text/html": [
       "<div><iframe src=\"http://127.0.0.1:7862/\" width=\"100%\" height=\"500\" allow=\"autoplay; camera; microphone; clipboard-read; clipboard-write;\" frameborder=\"0\" allowfullscreen></iframe></div>"
      ],
      "text/plain": [
       "<IPython.core.display.HTML object>"
      ]
     },
     "metadata": {},
     "output_type": "display_data"
    },
    {
     "name": "stdout",
     "output_type": "stream",
     "text": [
      "✅ Text Analyzer created!\n"
     ]
    }
   ],
   "source": [
    "#convert to API\n",
    "#check on UI\n",
    "demo3 = gr.Interface(\n",
    "    fn=analyze_text,     #calling the function\n",
    "    inputs=[\n",
    "        gr.Textbox(label=\"Input Text\", lines=3, placeholder=\"Enter your text here...\"),\n",
    "        gr.Dropdown([\"Original\", \"Upper\", \"Lower\", \"Title\"], label=\"Case Transform\"),\n",
    "        gr.Slider(1, 20, value=10, label=\"Word Limit\")\n",
    "    ],\n",
    "    outputs=[\n",
    "        gr.Textbox(label=\"Transformed Text\"),\n",
    "        gr.Number(label=\"Word Count\"),\n",
    "        gr.JSON(label=\"Limited Words\")\n",
    "    ],\n",
    "    title=\"Text Analyzer\"\n",
    ")\n",
    "demo3.launch()\n",
    "print(\"✅ Text Analyzer created!\")"
   ]
  },
  {
   "cell_type": "code",
   "execution_count": 17,
   "id": "2e09f17b",
   "metadata": {},
   "outputs": [],
   "source": [
    "import numpy as np"
   ]
  },
  {
   "cell_type": "code",
   "execution_count": 21,
   "id": "4012805d",
   "metadata": {},
   "outputs": [],
   "source": [
    "# ============================================================================\n",
    "# STEP 5: Image Processing\n",
    "# ============================================================================\n",
    "\n",
    "\n",
    "def simple_image_filter(image, filter_type):\n",
    "    \"\"\"Apply simple filters to images\"\"\"\n",
    "    if image is None:\n",
    "        return None\n",
    "    \n",
    "    # Convert to numpy array\n",
    "    img_array = np.array(image)\n",
    "    \n",
    "    if filter_type == \"Grayscale\":\n",
    "        # Convert to grayscale\n",
    "        gray = np.dot(img_array[...,:3], [0.299, 0.587, 0.114])\n",
    "        return np.stack([gray, gray, gray], axis=-1).astype(np.uint8)\n",
    "    \n",
    "    elif filter_type == \"Red Channel\":\n",
    "        # Keep only red channel\n",
    "        red_only = img_array.copy()\n",
    "        red_only[:,:,1] = 0  # Remove green\n",
    "        red_only[:,:,2] = 0  # Remove blue\n",
    "        return red_only\n",
    "    \n",
    "    elif filter_type == \"Invert\":\n",
    "        # Invert colors\n",
    "        return 255 - img_array\n",
    "    \n",
    "    else:  # Original\n",
    "        return img_array\n",
    "\n",
    "    \n",
    "     "
   ]
  },
  {
   "cell_type": "code",
   "execution_count": 22,
   "id": "a0e71779",
   "metadata": {},
   "outputs": [
    {
     "name": "stdout",
     "output_type": "stream",
     "text": [
      "* Running on local URL:  http://127.0.0.1:7864\n",
      "* To create a public link, set `share=True` in `launch()`.\n"
     ]
    },
    {
     "data": {
      "text/html": [
       "<div><iframe src=\"http://127.0.0.1:7864/\" width=\"100%\" height=\"500\" allow=\"autoplay; camera; microphone; clipboard-read; clipboard-write;\" frameborder=\"0\" allowfullscreen></iframe></div>"
      ],
      "text/plain": [
       "<IPython.core.display.HTML object>"
      ]
     },
     "metadata": {},
     "output_type": "display_data"
    },
    {
     "name": "stdout",
     "output_type": "stream",
     "text": [
      "✅ Image Filter created!\n"
     ]
    }
   ],
   "source": [
    "#convert to API\n",
    "#check on UI\n",
    "demo4 = gr.Interface(\n",
    "    fn=simple_image_filter,         #Calling the function\n",
    "    inputs=[\n",
    "        gr.Image(type=\"pil\", label=\"Upload Image\"),\n",
    "        gr.Radio([\"Original\", \"Grayscale\", \"Red Channel\", \"Invert\"], \n",
    "                value=\"Original\", label=\"Filter\")\n",
    "    ],\n",
    "    outputs=gr.Image(label=\"Filtered Image\"),\n",
    "    title=\"Simple Image Filter\"\n",
    ")\n",
    "demo4.launch()\n",
    "print(\"✅ Image Filter created!\")"
   ]
  },
  {
   "cell_type": "code",
   "execution_count": 27,
   "id": "1e6b6126",
   "metadata": {},
   "outputs": [
    {
     "name": "stdout",
     "output_type": "stream",
     "text": [
      "Collecting matplotlib\n",
      "  Downloading matplotlib-3.10.3-cp311-cp311-win_amd64.whl.metadata (11 kB)\n",
      "Collecting contourpy>=1.0.1 (from matplotlib)\n",
      "  Downloading contourpy-1.3.2-cp311-cp311-win_amd64.whl.metadata (5.5 kB)\n",
      "Collecting cycler>=0.10 (from matplotlib)\n",
      "  Downloading cycler-0.12.1-py3-none-any.whl.metadata (3.8 kB)\n",
      "Collecting fonttools>=4.22.0 (from matplotlib)\n",
      "  Downloading fonttools-4.58.1-cp311-cp311-win_amd64.whl.metadata (108 kB)\n",
      "Collecting kiwisolver>=1.3.1 (from matplotlib)\n",
      "  Downloading kiwisolver-1.4.8-cp311-cp311-win_amd64.whl.metadata (6.3 kB)\n",
      "Requirement already satisfied: numpy>=1.23 in c:\\users\\hp\\miniconda3\\envs\\mydevenvironment\\lib\\site-packages (from matplotlib) (2.2.6)\n",
      "Requirement already satisfied: packaging>=20.0 in c:\\users\\hp\\miniconda3\\envs\\mydevenvironment\\lib\\site-packages (from matplotlib) (24.2)\n",
      "Requirement already satisfied: pillow>=8 in c:\\users\\hp\\miniconda3\\envs\\mydevenvironment\\lib\\site-packages (from matplotlib) (11.2.1)\n",
      "Collecting pyparsing>=2.3.1 (from matplotlib)\n",
      "  Downloading pyparsing-3.2.3-py3-none-any.whl.metadata (5.0 kB)\n",
      "Requirement already satisfied: python-dateutil>=2.7 in c:\\users\\hp\\miniconda3\\envs\\mydevenvironment\\lib\\site-packages (from matplotlib) (2.9.0.post0)\n",
      "Requirement already satisfied: six>=1.5 in c:\\users\\hp\\miniconda3\\envs\\mydevenvironment\\lib\\site-packages (from python-dateutil>=2.7->matplotlib) (1.17.0)\n",
      "Downloading matplotlib-3.10.3-cp311-cp311-win_amd64.whl (8.1 MB)\n",
      "   ---------------------------------------- 0.0/8.1 MB ? eta -:--:--\n",
      "   ------------------------------------ --- 7.3/8.1 MB 41.2 MB/s eta 0:00:01\n",
      "   ---------------------------------------- 8.1/8.1 MB 26.3 MB/s eta 0:00:00\n",
      "Downloading contourpy-1.3.2-cp311-cp311-win_amd64.whl (222 kB)\n",
      "Downloading cycler-0.12.1-py3-none-any.whl (8.3 kB)\n",
      "Downloading fonttools-4.58.1-cp311-cp311-win_amd64.whl (2.2 MB)\n",
      "   ---------------------------------------- 0.0/2.2 MB ? eta -:--:--\n",
      "   ---------------------------------------- 2.2/2.2 MB 10.6 MB/s eta 0:00:00\n",
      "Downloading kiwisolver-1.4.8-cp311-cp311-win_amd64.whl (71 kB)\n",
      "Downloading pyparsing-3.2.3-py3-none-any.whl (111 kB)\n",
      "Installing collected packages: pyparsing, kiwisolver, fonttools, cycler, contourpy, matplotlib\n",
      "\n",
      "   ------------- -------------------------- 2/6 [fonttools]\n",
      "   ------------- -------------------------- 2/6 [fonttools]\n",
      "   ------------- -------------------------- 2/6 [fonttools]\n",
      "   ------------- -------------------------- 2/6 [fonttools]\n",
      "   ------------- -------------------------- 2/6 [fonttools]\n",
      "   ------------- -------------------------- 2/6 [fonttools]\n",
      "   ------------- -------------------------- 2/6 [fonttools]\n",
      "   ------------- -------------------------- 2/6 [fonttools]\n",
      "   ------------- -------------------------- 2/6 [fonttools]\n",
      "   ------------- -------------------------- 2/6 [fonttools]\n",
      "   ------------- -------------------------- 2/6 [fonttools]\n",
      "   ------------- -------------------------- 2/6 [fonttools]\n",
      "   ------------- -------------------------- 2/6 [fonttools]\n",
      "   -------------------------- ------------- 4/6 [contourpy]\n",
      "   --------------------------------- ------ 5/6 [matplotlib]\n",
      "   --------------------------------- ------ 5/6 [matplotlib]\n",
      "   --------------------------------- ------ 5/6 [matplotlib]\n",
      "   --------------------------------- ------ 5/6 [matplotlib]\n",
      "   --------------------------------- ------ 5/6 [matplotlib]\n",
      "   --------------------------------- ------ 5/6 [matplotlib]\n",
      "   --------------------------------- ------ 5/6 [matplotlib]\n",
      "   --------------------------------- ------ 5/6 [matplotlib]\n",
      "   --------------------------------- ------ 5/6 [matplotlib]\n",
      "   --------------------------------- ------ 5/6 [matplotlib]\n",
      "   --------------------------------- ------ 5/6 [matplotlib]\n",
      "   --------------------------------- ------ 5/6 [matplotlib]\n",
      "   --------------------------------- ------ 5/6 [matplotlib]\n",
      "   --------------------------------- ------ 5/6 [matplotlib]\n",
      "   --------------------------------- ------ 5/6 [matplotlib]\n",
      "   --------------------------------- ------ 5/6 [matplotlib]\n",
      "   --------------------------------- ------ 5/6 [matplotlib]\n",
      "   --------------------------------- ------ 5/6 [matplotlib]\n",
      "   --------------------------------- ------ 5/6 [matplotlib]\n",
      "   ---------------------------------------- 6/6 [matplotlib]\n",
      "\n",
      "Successfully installed contourpy-1.3.2 cycler-0.12.1 fonttools-4.58.1 kiwisolver-1.4.8 matplotlib-3.10.3 pyparsing-3.2.3\n"
     ]
    }
   ],
   "source": [
    "!pip install matplotlib"
   ]
  },
  {
   "cell_type": "code",
   "execution_count": 28,
   "id": "5dab8a29",
   "metadata": {},
   "outputs": [],
   "source": [
    "import matplotlib.pyplot as plt"
   ]
  },
  {
   "cell_type": "code",
   "execution_count": 29,
   "id": "52ca0e5b",
   "metadata": {},
   "outputs": [],
   "source": [
    "# ============================================================================\n",
    "# STEP 6: Data Visualization\n",
    "# ============================================================================\n",
    "import matplotlib.pyplot as plt\n",
    "def create_simple_plot(plot_type, num_points):\n",
    "    \"\"\"Create different types of plots\"\"\"\n",
    "    x = np.linspace(0, 10, num_points)\n",
    "    \n",
    "    if plot_type == \"Sine\":\n",
    "        y = np.sin(x)\n",
    "        title = \"Sine Wave\"\n",
    "    elif plot_type == \"Cosine\":\n",
    "        y = np.cos(x)\n",
    "        title = \"Cosine Wave\"\n",
    "    elif plot_type == \"Linear\":\n",
    "        y = 2 * x + 1\n",
    "        title = \"Linear Function\"\n",
    "    else:  # Quadratic\n",
    "        y = x ** 2\n",
    "        title = \"Quadratic Function\"\n",
    "    \n",
    "    plt.figure(figsize=(8, 5))\n",
    "    plt.plot(x, y, 'b-', linewidth=2)\n",
    "    plt.title(title)\n",
    "    plt.xlabel(\"X\")\n",
    "    plt.ylabel(\"Y\")\n",
    "    plt.grid(True, alpha=0.3)\n",
    "    \n",
    "    return plt.gcf()"
   ]
  },
  {
   "cell_type": "code",
   "execution_count": 30,
   "id": "272fa124",
   "metadata": {},
   "outputs": [
    {
     "name": "stdout",
     "output_type": "stream",
     "text": [
      "* Running on local URL:  http://127.0.0.1:7865\n",
      "* To create a public link, set `share=True` in `launch()`.\n"
     ]
    },
    {
     "data": {
      "text/html": [
       "<div><iframe src=\"http://127.0.0.1:7865/\" width=\"100%\" height=\"500\" allow=\"autoplay; camera; microphone; clipboard-read; clipboard-write;\" frameborder=\"0\" allowfullscreen></iframe></div>"
      ],
      "text/plain": [
       "<IPython.core.display.HTML object>"
      ]
     },
     "metadata": {},
     "output_type": "display_data"
    },
    {
     "name": "stdout",
     "output_type": "stream",
     "text": [
      "✅ Function Plotter created!\n"
     ]
    }
   ],
   "source": [
    "#convert to API\n",
    "#check on UI\n",
    "demo5 = gr.Interface(\n",
    "    fn=create_simple_plot,  #Calling the function\n",
    "    inputs=[\n",
    "        gr.Dropdown([\"Sine\", \"Cosine\", \"Linear\", \"Quadratic\"], \n",
    "                   value=\"Sine\", label=\"Function Type\"),\n",
    "        gr.Slider(10, 100, value=50, step=10, label=\"Number of Points\")\n",
    "    ],\n",
    "    outputs=gr.Plot(label=\"Generated Plot\"),\n",
    "    title=\"Function Plotter\"\n",
    ")\n",
    "\n",
    "demo5.launch()\n",
    "\n",
    "print(\"✅ Function Plotter created!\")\n",
    "     \n"
   ]
  },
  {
   "cell_type": "code",
   "execution_count": 33,
   "id": "8da1e40b",
   "metadata": {},
   "outputs": [],
   "source": [
    "#Now to convert this function into API\n",
    "#Use Postman and convert get the python based import API code\n",
    "#(check the recording of 1st June 2025 class)\n",
    "\n",
    "import requests\n",
    "def add(a, b):\n",
    "    \n",
    "\n",
    "    url = f\"http://127.0.0.1:5001/add?a={a}&b={b}\"\n",
    "\n",
    "    payload = {}\n",
    "    headers = {\n",
    "    'accept': 'application/json'\n",
    "    }\n",
    "\n",
    "    response = requests.request(\"POST\", url, headers=headers, data=payload)\n",
    "\n",
    "    print(response.text)\n",
    "    return response.text\n"
   ]
  },
  {
   "cell_type": "code",
   "execution_count": 34,
   "id": "6c13a1da",
   "metadata": {},
   "outputs": [
    {
     "name": "stdout",
     "output_type": "stream",
     "text": [
      "* Running on local URL:  http://127.0.0.1:7866\n",
      "* To create a public link, set `share=True` in `launch()`.\n"
     ]
    },
    {
     "data": {
      "text/html": [
       "<div><iframe src=\"http://127.0.0.1:7866/\" width=\"100%\" height=\"500\" allow=\"autoplay; camera; microphone; clipboard-read; clipboard-write;\" frameborder=\"0\" allowfullscreen></iframe></div>"
      ],
      "text/plain": [
       "<IPython.core.display.HTML object>"
      ]
     },
     "metadata": {},
     "output_type": "display_data"
    },
    {
     "data": {
      "text/plain": []
     },
     "execution_count": 34,
     "metadata": {},
     "output_type": "execute_result"
    }
   ],
   "source": [
    "#Now above API,as it is created, we can use gradio for UI \n",
    "demo_1 = gr.Interface(\n",
    "    fn=add,\n",
    "    inputs=[\n",
    "        gr.Number(label=\"a\", value = 7),\n",
    "        gr.Number(label=\"b\", value = 1),\n",
    "\n",
    "\n",
    "    ],\n",
    "    outputs=[\n",
    "        gr.Number(label=\"output\"),\n",
    "    ],\n",
    "    title= \"add api\"\n",
    ")\n",
    "\n",
    "demo_1.launch()"
   ]
  }
 ],
 "metadata": {
  "kernelspec": {
   "display_name": "MyDevEnvironment",
   "language": "python",
   "name": "python3"
  },
  "language_info": {
   "codemirror_mode": {
    "name": "ipython",
    "version": 3
   },
   "file_extension": ".py",
   "mimetype": "text/x-python",
   "name": "python",
   "nbconvert_exporter": "python",
   "pygments_lexer": "ipython3",
   "version": "3.11.11"
  }
 },
 "nbformat": 4,
 "nbformat_minor": 5
}
